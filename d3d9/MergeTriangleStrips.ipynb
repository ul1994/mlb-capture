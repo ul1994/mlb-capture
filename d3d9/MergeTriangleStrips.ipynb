{
 "cells": [
  {
   "cell_type": "code",
   "execution_count": 22,
   "metadata": {},
   "outputs": [],
   "source": [
    "from glob import glob"
   ]
  },
  {
   "cell_type": "code",
   "execution_count": 23,
   "metadata": {
    "scrolled": false
   },
   "outputs": [
    {
     "name": "stdout",
     "output_type": "stream",
     "text": [
      "     139\n",
      "meshes\\frame46000_strip_s16_1226.obj\n",
      "meshes\\frame46000_strip_s60_730.obj\n"
     ]
    }
   ],
   "source": [
    "stripfiles = sorted(glob('meshes/*.obj'))\n",
    "stripfiles = [fl for fl in stripfiles if 't1' not in fl]\n",
    "print('    ', len(stripfiles))\n",
    "print(stripfiles[0])\n",
    "print(stripfiles[-1])"
   ]
  },
  {
   "cell_type": "code",
   "execution_count": 24,
   "metadata": {
    "scrolled": true
   },
   "outputs": [
    {
     "name": "stdout",
     "output_type": "stream",
     "text": [
      "f 11 12 13\n",
      "v 1.0 1.0 1.0\n"
     ]
    }
   ],
   "source": [
    "def indadd(istr, amount):\n",
    "    parts = [str(int(val) + amount) for val in istr.split()[1:]]\n",
    "    return 'f ' + ' '.join(parts)\n",
    "\n",
    "print(indadd('f 1 2 3 ', 10))\n",
    "\n",
    "def norm(ww, vert):\n",
    "    coords = [float(val) / float(ww.split('# w ')[1]) for val in vert.split()[1:]]\n",
    "    return 'v ' + ' '.join([str(val) for val in coords])\n",
    "\n",
    "print(norm(*('# w 2', 'v 2 2 2')))"
   ]
  },
  {
   "cell_type": "code",
   "execution_count": 25,
   "metadata": {},
   "outputs": [
    {
     "name": "stdout",
     "output_type": "stream",
     "text": [
      "meshes\\frame46000_strip_s16_1226.obj: 378 verts, 1224 faces, 378 ws\n",
      "meshes\\frame46000_strip_s16_555.obj: 251 verts, 553 faces, 251 ws\n",
      "meshes\\frame46000_strip_s20_1118.obj: 407 verts, 1116 faces, 407 ws\n",
      "meshes\\frame46000_strip_s20_279.obj: 102 verts, 277 faces, 102 ws\n",
      "meshes\\frame46000_strip_s20_326.obj: 116 verts, 324 faces, 116 ws\n",
      "meshes\\frame46000_strip_s20_445.obj: 196 verts, 443 faces, 196 ws\n",
      "meshes\\frame46000_strip_s20_455.obj: 156 verts, 453 faces, 156 ws\n",
      "meshes\\frame46000_strip_s20_666.obj: 268 verts, 664 faces, 268 ws\n",
      "meshes\\frame46000_strip_s20_704.obj: 288 verts, 702 faces, 288 ws\n",
      "meshes\\frame46000_strip_s20_766.obj: 253 verts, 764 faces, 253 ws\n",
      "meshes\\frame46000_strip_s28_1016.obj: 680 verts, 1014 faces, 680 ws\n",
      "meshes\\frame46000_strip_s28_1024.obj: 656 verts, 1022 faces, 656 ws\n",
      "meshes\\frame46000_strip_s28_1028.obj: 688 verts, 1026 faces, 688 ws\n",
      "meshes\\frame46000_strip_s28_1076.obj: 720 verts, 1074 faces, 720 ws\n",
      "meshes\\frame46000_strip_s28_1088.obj: 728 verts, 1086 faces, 728 ws\n",
      "meshes\\frame46000_strip_s28_1112.obj: 744 verts, 1110 faces, 744 ws\n",
      "meshes\\frame46000_strip_s28_1124.obj: 659 verts, 1122 faces, 659 ws\n",
      "meshes\\frame46000_strip_s28_1352.obj: 904 verts, 1350 faces, 904 ws\n",
      "meshes\\frame46000_strip_s28_1364.obj: 912 verts, 1362 faces, 912 ws\n",
      "meshes\\frame46000_strip_s28_1424.obj: 952 verts, 1422 faces, 952 ws\n",
      "meshes\\frame46000_strip_s28_1430.obj: 914 verts, 1428 faces, 914 ws\n",
      "meshes\\frame46000_strip_s28_1520.obj: 1016 verts, 1518 faces, 1016 ws\n",
      "meshes\\frame46000_strip_s28_154.obj: 102 verts, 152 faces, 102 ws\n",
      "meshes\\frame46000_strip_s28_1568.obj: 1048 verts, 1566 faces, 1048 ws\n",
      "meshes\\frame46000_strip_s28_1580.obj: 1056 verts, 1578 faces, 1056 ws\n",
      "meshes\\frame46000_strip_s28_1736.obj: 1160 verts, 1734 faces, 1160 ws\n",
      "meshes\\frame46000_strip_s28_182.obj: 112 verts, 180 faces, 112 ws\n",
      "meshes\\frame46000_strip_s28_196.obj: 126 verts, 194 faces, 126 ws\n",
      "meshes\\frame46000_strip_s28_206.obj: 117 verts, 204 faces, 117 ws\n",
      "meshes\\frame46000_strip_s28_212.obj: 144 verts, 210 faces, 144 ws\n",
      "meshes\\frame46000_strip_s28_260.obj: 162 verts, 258 faces, 162 ws\n",
      "meshes\\frame46000_strip_s28_334.obj: 196 verts, 332 faces, 196 ws\n",
      "meshes\\frame46000_strip_s28_356.obj: 240 verts, 354 faces, 240 ws\n",
      "meshes\\frame46000_strip_s28_358.obj: 173 verts, 356 faces, 173 ws\n",
      "meshes\\frame46000_strip_s28_3592.obj: 2236 verts, 3590 faces, 2236 ws\n",
      "meshes\\frame46000_strip_s28_373.obj: 243 verts, 371 faces, 243 ws\n",
      "meshes\\frame46000_strip_s28_388.obj: 259 verts, 386 faces, 259 ws\n",
      "meshes\\frame46000_strip_s28_406.obj: 272 verts, 404 faces, 272 ws\n",
      "meshes\\frame46000_strip_s28_408.obj: 257 verts, 406 faces, 257 ws\n",
      "meshes\\frame46000_strip_s28_416.obj: 257 verts, 414 faces, 257 ws\n",
      "meshes\\frame46000_strip_s28_435.obj: 277 verts, 433 faces, 277 ws\n",
      "meshes\\frame46000_strip_s28_476.obj: 311 verts, 474 faces, 311 ws\n",
      "meshes\\frame46000_strip_s28_486.obj: 315 verts, 484 faces, 315 ws\n",
      "meshes\\frame46000_strip_s28_537.obj: 360 verts, 535 faces, 360 ws\n",
      "meshes\\frame46000_strip_s28_538.obj: 357 verts, 536 faces, 357 ws\n",
      "meshes\\frame46000_strip_s28_602.obj: 356 verts, 600 faces, 356 ws\n",
      "meshes\\frame46000_strip_s28_652.obj: 425 verts, 650 faces, 425 ws\n",
      "meshes\\frame46000_strip_s28_668.obj: 448 verts, 666 faces, 448 ws\n",
      "meshes\\frame46000_strip_s28_688.obj: 454 verts, 686 faces, 454 ws\n",
      "meshes\\frame46000_strip_s28_812.obj: 544 verts, 810 faces, 544 ws\n",
      "meshes\\frame46000_strip_s28_830.obj: 505 verts, 828 faces, 505 ws\n",
      "meshes\\frame46000_strip_s28_836.obj: 560 verts, 834 faces, 560 ws\n",
      "meshes\\frame46000_strip_s28_907.obj: 598 verts, 905 faces, 598 ws\n",
      "meshes\\frame46000_strip_s28_920.obj: 616 verts, 918 faces, 616 ws\n",
      "meshes\\frame46000_strip_s28_956.obj: 640 verts, 954 faces, 640 ws\n",
      "meshes\\frame46000_strip_s36_1004.obj: 672 verts, 1002 faces, 672 ws\n",
      "meshes\\frame46000_strip_s36_1088.obj: 728 verts, 1086 faces, 728 ws\n",
      "meshes\\frame46000_strip_s36_1118.obj: 724 verts, 1116 faces, 724 ws\n",
      "meshes\\frame46000_strip_s36_12940.obj: 8629 verts, 12938 faces, 8629 ws\n",
      "meshes\\frame46000_strip_s36_1318.obj: 849 verts, 1316 faces, 849 ws\n",
      "meshes\\frame46000_strip_s36_13692.obj: 9077 verts, 13690 faces, 9077 ws\n",
      "meshes\\frame46000_strip_s36_14034.obj: 9265 verts, 14032 faces, 9265 ws\n",
      "meshes\\frame46000_strip_s36_1423.obj: 872 verts, 1421 faces, 872 ws\n",
      "meshes\\frame46000_strip_s36_146.obj: 102 verts, 144 faces, 102 ws\n",
      "meshes\\frame46000_strip_s36_150.obj: 132 verts, 148 faces, 132 ws\n",
      "meshes\\frame46000_strip_s36_164.obj: 112 verts, 162 faces, 112 ws\n",
      "meshes\\frame46000_strip_s36_1676.obj: 1120 verts, 1674 faces, 1120 ws\n",
      "meshes\\frame46000_strip_s36_169.obj: 114 verts, 167 faces, 114 ws\n",
      "meshes\\frame46000_strip_s36_1756.obj: 1174 verts, 1754 faces, 1174 ws\n",
      "meshes\\frame46000_strip_s36_176.obj: 120 verts, 174 faces, 120 ws\n",
      "meshes\\frame46000_strip_s36_182.obj: 124 verts, 180 faces, 124 ws\n",
      "meshes\\frame46000_strip_s36_214.obj: 151 verts, 212 faces, 151 ws\n",
      "meshes\\frame46000_strip_s36_2213.obj: 1253 verts, 2211 faces, 1253 ws\n",
      "meshes\\frame46000_strip_s36_224.obj: 144 verts, 222 faces, 144 ws\n",
      "meshes\\frame46000_strip_s36_2277.obj: 1505 verts, 2275 faces, 1505 ws\n",
      "meshes\\frame46000_strip_s36_2314.obj: 1511 verts, 2312 faces, 1511 ws\n",
      "meshes\\frame46000_strip_s36_2316.obj: 1520 verts, 2314 faces, 1520 ws\n",
      "meshes\\frame46000_strip_s36_242.obj: 164 verts, 240 faces, 164 ws\n",
      "meshes\\frame46000_strip_s36_253.obj: 200 verts, 251 faces, 200 ws\n",
      "meshes\\frame46000_strip_s36_2534.obj: 1692 verts, 2532 faces, 1692 ws\n",
      "meshes\\frame46000_strip_s36_2557.obj: 1689 verts, 2555 faces, 1689 ws\n",
      "meshes\\frame46000_strip_s36_263.obj: 172 verts, 261 faces, 172 ws\n",
      "meshes\\frame46000_strip_s36_2754.obj: 1778 verts, 2752 faces, 1778 ws\n",
      "meshes\\frame46000_strip_s36_2844.obj: 2224 verts, 2842 faces, 2224 ws\n",
      "meshes\\frame46000_strip_s36_290.obj: 196 verts, 288 faces, 196 ws\n",
      "meshes\\frame46000_strip_s36_292.obj: 197 verts, 290 faces, 197 ws\n",
      "meshes\\frame46000_strip_s36_296.obj: 200 verts, 294 faces, 200 ws\n",
      "meshes\\frame46000_strip_s36_2966.obj: 1980 verts, 2964 faces, 1980 ws\n",
      "meshes\\frame46000_strip_s36_324.obj: 212 verts, 322 faces, 212 ws\n",
      "meshes\\frame46000_strip_s36_360.obj: 235 verts, 358 faces, 235 ws\n",
      "meshes\\frame46000_strip_s36_376.obj: 243 verts, 374 faces, 243 ws\n",
      "meshes\\frame46000_strip_s36_3878.obj: 2546 verts, 3876 faces, 2546 ws\n",
      "meshes\\frame46000_strip_s36_413.obj: 260 verts, 411 faces, 260 ws\n",
      "meshes\\frame46000_strip_s36_443.obj: 216 verts, 441 faces, 216 ws\n",
      "meshes\\frame46000_strip_s36_482.obj: 324 verts, 480 faces, 324 ws\n",
      "meshes\\frame46000_strip_s36_488.obj: 321 verts, 486 faces, 321 ws\n",
      "meshes\\frame46000_strip_s36_495.obj: 326 verts, 493 faces, 326 ws\n",
      "meshes\\frame46000_strip_s36_524.obj: 348 verts, 522 faces, 348 ws\n",
      "meshes\\frame46000_strip_s36_532.obj: 332 verts, 530 faces, 332 ws\n",
      "meshes\\frame46000_strip_s36_554.obj: 372 verts, 552 faces, 372 ws\n",
      "meshes\\frame46000_strip_s36_5832.obj: 3568 verts, 5830 faces, 3568 ws\n",
      "meshes\\frame46000_strip_s36_632.obj: 443 verts, 630 faces, 443 ws\n",
      "meshes\\frame46000_strip_s36_647.obj: 404 verts, 645 faces, 404 ws\n",
      "meshes\\frame46000_strip_s36_674.obj: 438 verts, 672 faces, 438 ws\n",
      "meshes\\frame46000_strip_s36_728.obj: 472 verts, 726 faces, 472 ws\n",
      "meshes\\frame46000_strip_s36_890.obj: 587 verts, 888 faces, 587 ws\n",
      "meshes\\frame46000_strip_s40_1120.obj: 724 verts, 1118 faces, 724 ws\n",
      "meshes\\frame46000_strip_s40_1204.obj: 729 verts, 1202 faces, 729 ws\n",
      "meshes\\frame46000_strip_s40_1225.obj: 767 verts, 1223 faces, 767 ws\n",
      "meshes\\frame46000_strip_s40_1266.obj: 834 verts, 1264 faces, 834 ws\n",
      "meshes\\frame46000_strip_s40_1300.obj: 824 verts, 1298 faces, 824 ws\n",
      "meshes\\frame46000_strip_s40_1385.obj: 613 verts, 1383 faces, 613 ws\n",
      "meshes\\frame46000_strip_s40_1528.obj: 599 verts, 1526 faces, 599 ws\n",
      "meshes\\frame46000_strip_s40_169.obj: 116 verts, 167 faces, 116 ws\n",
      "meshes\\frame46000_strip_s40_170.obj: 108 verts, 168 faces, 108 ws\n",
      "meshes\\frame46000_strip_s40_174.obj: 112 verts, 172 faces, 112 ws\n",
      "meshes\\frame46000_strip_s40_198.obj: 126 verts, 196 faces, 126 ws\n",
      "meshes\\frame46000_strip_s40_292.obj: 200 verts, 290 faces, 200 ws\n",
      "meshes\\frame46000_strip_s40_300.obj: 200 verts, 298 faces, 200 ws\n",
      "meshes\\frame46000_strip_s40_303.obj: 205 verts, 301 faces, 205 ws\n",
      "meshes\\frame46000_strip_s40_324.obj: 207 verts, 322 faces, 207 ws\n",
      "meshes\\frame46000_strip_s40_3281.obj: 2058 verts, 3279 faces, 2058 ws\n",
      "meshes\\frame46000_strip_s40_332.obj: 224 verts, 330 faces, 224 ws\n",
      "meshes\\frame46000_strip_s40_3496.obj: 2282 verts, 3494 faces, 2282 ws\n",
      "meshes\\frame46000_strip_s40_350.obj: 193 verts, 348 faces, 193 ws\n",
      "meshes\\frame46000_strip_s40_400.obj: 219 verts, 398 faces, 219 ws\n",
      "meshes\\frame46000_strip_s40_476.obj: 315 verts, 474 faces, 315 ws\n",
      "meshes\\frame46000_strip_s40_487.obj: 313 verts, 485 faces, 313 ws\n",
      "meshes\\frame46000_strip_s40_500.obj: 336 verts, 498 faces, 336 ws\n",
      "meshes\\frame46000_strip_s40_572.obj: 384 verts, 570 faces, 384 ws\n",
      "meshes\\frame46000_strip_s40_655.obj: 404 verts, 653 faces, 404 ws\n",
      "meshes\\frame46000_strip_s40_949.obj: 435 verts, 947 faces, 435 ws\n",
      "meshes\\frame46000_strip_s60_1226.obj: 819 verts, 1224 faces, 819 ws\n",
      "meshes\\frame46000_strip_s60_1287.obj: 808 verts, 1285 faces, 808 ws\n"
     ]
    },
    {
     "name": "stdout",
     "output_type": "stream",
     "text": [
      "meshes\\frame46000_strip_s60_2608.obj: 913 verts, 2606 faces, 913 ws\n",
      "meshes\\frame46000_strip_s60_4651.obj: 2274 verts, 4649 faces, 2274 ws\n",
      "meshes\\frame46000_strip_s60_474.obj: 288 verts, 472 faces, 288 ws\n",
      "meshes\\frame46000_strip_s60_516.obj: 187 verts, 514 faces, 187 ws\n",
      "meshes\\frame46000_strip_s60_730.obj: 322 verts, 728 faces, 322 ws\n",
      "Total:  108228 verts,  171993 faces\n"
     ]
    }
   ],
   "source": [
    "verts = []\n",
    "inds = []\n",
    "verts_normed = []\n",
    "verts_og = []\n",
    "\n",
    "voffset = 0\n",
    "FROM =0\n",
    "UPTO = 150\n",
    "for fname in stripfiles[FROM:UPTO]:\n",
    "    with open(fname) as fl:\n",
    "        raw = fl.read()\n",
    "    lines = raw.split('\\n')\n",
    "    lines = [ll for ll in lines if ll]\n",
    "    vs = [ll for ll in lines if ll[0] == 'v']\n",
    "    \n",
    "    ws = [ll for ll in lines if ll[:3] == '# w']\n",
    "    os = [ll.replace('# o', 'v') for ll in lines if ll[:3] == '# o']\n",
    "    fs = [ll for ll in lines if ll[0] == 'f']\n",
    "    print('%s: %d verts, %d faces, %d ws' % (fname, len(vs), len(fs), len(ws)))\n",
    "    \n",
    "    verts_normed += [norm(*pair) for pair in zip(ws, vs)]\n",
    "    verts_og += os\n",
    "    verts += ['# ' + fname]\n",
    "    verts += vs\n",
    "    inds += [indadd(fdef, voffset) for fdef in fs]\n",
    "    voffset += len(vs)\n",
    "\n",
    "print('Total:  %d verts,  %d faces' % (len(verts), len(inds)))"
   ]
  },
  {
   "cell_type": "code",
   "execution_count": 26,
   "metadata": {},
   "outputs": [],
   "source": [
    "with open('dump.obj', 'w') as fl:\n",
    "    fl.write('\\n'.join(verts))\n",
    "    fl.write('\\n')\n",
    "    fl.write('\\n'.join(inds))"
   ]
  },
  {
   "cell_type": "code",
   "execution_count": 27,
   "metadata": {},
   "outputs": [],
   "source": [
    "with open('dump_og.obj', 'w') as fl:\n",
    "    fl.write('\\n'.join(verts_og))\n",
    "    fl.write('\\n')\n",
    "    fl.write('\\n'.join(inds))"
   ]
  },
  {
   "cell_type": "code",
   "execution_count": null,
   "metadata": {},
   "outputs": [],
   "source": []
  }
 ],
 "metadata": {
  "kernelspec": {
   "display_name": "Python 3",
   "language": "python",
   "name": "python3"
  },
  "language_info": {
   "codemirror_mode": {
    "name": "ipython",
    "version": 3
   },
   "file_extension": ".py",
   "mimetype": "text/x-python",
   "name": "python",
   "nbconvert_exporter": "python",
   "pygments_lexer": "ipython3",
   "version": "3.7.1"
  }
 },
 "nbformat": 4,
 "nbformat_minor": 2
}
