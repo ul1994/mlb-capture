{
 "cells": [
  {
   "cell_type": "code",
   "execution_count": 2,
   "metadata": {},
   "outputs": [],
   "source": [
    "from glob import glob\n",
    "import numpy as np"
   ]
  },
  {
   "cell_type": "code",
   "execution_count": 3,
   "metadata": {
    "scrolled": false
   },
   "outputs": [
    {
     "name": "stdout",
     "output_type": "stream",
     "text": [
      "     49\n",
      "meshes\\frame31000_strip_o100_s20_666.obj\n",
      "meshes\\frame31000_strip_o99_s20_766.obj\n"
     ]
    }
   ],
   "source": [
    "stripfiles = sorted(glob('meshes/frame*.obj'))\n",
    "stripfiles = [fl for fl in stripfiles if 't1' not in fl]\n",
    "print('    ', len(stripfiles))\n",
    "print(stripfiles[0])\n",
    "print(stripfiles[-1])"
   ]
  },
  {
   "cell_type": "code",
   "execution_count": 4,
   "metadata": {},
   "outputs": [
    {
     "data": {
      "text/plain": [
       "([1.0, 2.0, 3.0, 4.0], 'asdf')"
      ]
     },
     "execution_count": 4,
     "metadata": {},
     "output_type": "execute_result"
    }
   ],
   "source": [
    "def parsev(line, comment=True, dtype=float):\n",
    "    if comment: line = line.replace('# ', '')\n",
    "    parts = line.split()\n",
    "    token = parts[0]\n",
    "    vlist = [dtype(val) for val in parts[1:]]\n",
    "    return vlist, token\n",
    "\n",
    "parsev('# asdf 1 2 3 4')"
   ]
  },
  {
   "cell_type": "code",
   "execution_count": 5,
   "metadata": {},
   "outputs": [
    {
     "name": "stdout",
     "output_type": "stream",
     "text": [
      "[ 1.68073085e+03  9.99321440e+01 -1.57427949e+03  1.00000000e+00]\n",
      "[ 1.63069866e+03  6.44377677e+01 -1.57639673e+03  1.00000000e+00]\n",
      "[1, 1, 2]\n"
     ]
    }
   ],
   "source": [
    "RSTRIDE = 3\n",
    "BSTART = 40\n",
    "def load_markup(fname, ventries=4):\n",
    "    with open(fname) as fl:\n",
    "        raw = fl.read()\n",
    "    lines = [ln for ln in raw.split('\\n') if ln]\n",
    "    registers = lines[2:2+256]\n",
    "    registers = [parsev(ln)[0] for ln in registers]\n",
    "    \n",
    "    vstart, vend = -1, -1\n",
    "    for lii in range(len(lines)):\n",
    "        if lines[lii][0] == 'v' and vstart == -1: \n",
    "            vstart = lii + 1 - ventries\n",
    "        if lines[lii][0] == 'f' and vend == -1: \n",
    "            vend = lii\n",
    "    vgrouped = [lines[lii:lii+ventries] for lii in range(vstart, vend, ventries)]\n",
    "    faces = [parsev(ln, comment=False, dtype=int)[0] for ln in lines if ln[0] == 'f']\n",
    "    \n",
    "    verts = []\n",
    "    for group in vgrouped:\n",
    "        ent = {}\n",
    "        converted = [parsev(line) for line in group[:ventries-1]]\n",
    "        for vector, token in converted: ent[token] = vector\n",
    "        \n",
    "        vertex, _ = parsev(group[-1], comment=False)\n",
    "        ent['vertex'] = vertex + [1,]\n",
    "        verts.append(ent)\n",
    "    \n",
    "    blended = []\n",
    "    for ent in verts:\n",
    "        vertex = ent['vertex']\n",
    "        \n",
    "        bind = int(ent['blend'][0])\n",
    "        assert bind >= 0\n",
    "        boffset = BSTART + RSTRIDE * bind\n",
    "        \n",
    "#         print('     ', vertex)\n",
    "        bvect = np.zeros(4)\n",
    "        for dim in range(3):\n",
    "            bweights = np.array(registers[boffset+dim])\n",
    "#             bweights /= bweights[-1]\n",
    "#             print('     ', bweights)\n",
    "            bvect[dim] = np.dot(vertex, bweights)\n",
    "#         print('     ', bvect)\n",
    "        bvect[3] = 1\n",
    "        ent['blended'] = bvect\n",
    "#         break\n",
    "    \n",
    "    return verts, faces, registers\n",
    "\n",
    "verts, faces, regs = load_markup(stripfiles[0])\n",
    "print(verts[0]['blended'])\n",
    "print(verts[-1]['blended'])\n",
    "print(faces[0])"
   ]
  },
  {
   "cell_type": "code",
   "execution_count": 6,
   "metadata": {
    "scrolled": true
   },
   "outputs": [],
   "source": [
    "def writeobj(fname, verts, faces):\n",
    "    with open(fname, 'w') as fl:\n",
    "        for ent in verts:\n",
    "            fl.write('v %s\\n' % ' '.join(['%f' % val for val in ent['blended'][:3]]))\n",
    "        for fdef in faces:\n",
    "            fl.write('f %s\\n' % ' '.join(['%d' % val for val in fdef]))\n",
    "\n",
    "stripfiles = sorted(glob('meshes/frame*.obj'))\n",
    "stripfiles = [fl for fl in stripfiles if 't1' not in fl]\n",
    "\n",
    "for fname in stripfiles:\n",
    "    verts, faces, regs = load_markup(fname)\n",
    "    fname = fname.replace('frame', 'blendf')\n",
    "#     print(fname)\n",
    "    writeobj(fname, verts, faces)"
   ]
  },
  {
   "cell_type": "code",
   "execution_count": 19,
   "metadata": {},
   "outputs": [
    {
     "name": "stdout",
     "output_type": "stream",
     "text": [
      "49\n"
     ]
    }
   ],
   "source": [
    "markupfiles = sorted(glob('meshes/frame*.obj'))\n",
    "print(len(markupfiles))\n",
    "\n",
    "class merged:\n",
    "    verts = []\n",
    "    faces = []\n",
    "    \n",
    "foffset = 0\n",
    "for fname in markupfiles:\n",
    "    verts, faces, regs = load_markup(fname)\n",
    "    merged.verts += verts\n",
    "    \n",
    "    offset_faces = []\n",
    "    for face in faces:\n",
    "        offset_faces += [[val + foffset for val in face]]\n",
    "    assert len(offset_faces) == len(faces)\n",
    "    merged.faces += offset_faces\n",
    "    \n",
    "    foffset += len(verts)\n",
    "\n",
    "with open('blended.obj', 'w') as fl:\n",
    "    for vert in merged.verts:\n",
    "#         print(vert)\n",
    "        fl.write('v %s\\n' % ' '.join(['%f' % val for val in vert['blended'][:3]]))\n",
    "    for face in merged.faces:\n",
    "        fl.write('f %s\\n' % ' '.join(['%d' % val for val in face]))\n",
    "        \n",
    "with open('merged.obj', 'w') as fl:\n",
    "    for vert in merged.verts:\n",
    "#         print(vert)\n",
    "        fl.write('v %s\\n' % ' '.join(['%f' % val for val in vert['vertex'][:3]]))\n",
    "    for face in merged.faces:\n",
    "        fl.write('f %s\\n' % ' '.join(['%d' % val for val in face]))\n",
    "    "
   ]
  },
  {
   "cell_type": "code",
   "execution_count": null,
   "metadata": {},
   "outputs": [],
   "source": []
  }
 ],
 "metadata": {
  "kernelspec": {
   "display_name": "Python 3",
   "language": "python",
   "name": "python3"
  },
  "language_info": {
   "codemirror_mode": {
    "name": "ipython",
    "version": 3
   },
   "file_extension": ".py",
   "mimetype": "text/x-python",
   "name": "python",
   "nbconvert_exporter": "python",
   "pygments_lexer": "ipython3",
   "version": "3.7.1"
  }
 },
 "nbformat": 4,
 "nbformat_minor": 2
}
