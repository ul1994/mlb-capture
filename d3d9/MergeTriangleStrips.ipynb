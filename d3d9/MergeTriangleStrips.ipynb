{
 "cells": [
  {
   "cell_type": "code",
   "execution_count": 1,
   "metadata": {},
   "outputs": [],
   "source": [
    "from glob import glob"
   ]
  },
  {
   "cell_type": "code",
   "execution_count": 2,
   "metadata": {
    "scrolled": false
   },
   "outputs": [
    {
     "name": "stdout",
     "output_type": "stream",
     "text": [
      "     100\n",
      "meshes\\frame98000_strip_t3_1154.obj\n",
      "meshes\\frame98000_strip_t6_766.obj\n"
     ]
    }
   ],
   "source": [
    "ignore = ['t1']\n",
    "stripfiles = sorted(glob('meshes/*strip*.obj'))\n",
    "stripfiles = [fl for fl in stripfiles if 't1' not in fl]\n",
    "print('    ', len(stripfiles))\n",
    "print(stripfiles[0])\n",
    "print(stripfiles[-1])"
   ]
  },
  {
   "cell_type": "code",
   "execution_count": 3,
   "metadata": {
    "scrolled": true
   },
   "outputs": [
    {
     "name": "stdout",
     "output_type": "stream",
     "text": [
      "f 11 12 13\n",
      "v 1.0 1.0 1.0\n"
     ]
    }
   ],
   "source": [
    "def indadd(istr, amount):\n",
    "    parts = [str(int(val) + amount) for val in istr.split()[1:]]\n",
    "    return 'f ' + ' '.join(parts)\n",
    "\n",
    "print(indadd('f 1 2 3 ', 10))\n",
    "\n",
    "def norm(ww, vert):\n",
    "    coords = [float(val) / float(ww.split('# w ')[1]) for val in vert.split()[1:]]\n",
    "    return 'v ' + ' '.join([str(val) for val in coords])\n",
    "\n",
    "print(norm(*('# w 2', 'v 2 2 2')))"
   ]
  },
  {
   "cell_type": "code",
   "execution_count": 4,
   "metadata": {},
   "outputs": [
    {
     "name": "stdout",
     "output_type": "stream",
     "text": [
      "meshes\\frame98000_strip_t3_1154.obj: 772 verts, 1152 faces, 772 ws\n",
      "meshes\\frame98000_strip_t3_1274.obj: 783 verts, 1272 faces, 783 ws\n",
      "meshes\\frame98000_strip_t3_1286.obj: 860 verts, 1284 faces, 860 ws\n",
      "meshes\\frame98000_strip_t3_1292.obj: 864 verts, 1290 faces, 864 ws\n",
      "meshes\\frame98000_strip_t3_1338.obj: 849 verts, 1336 faces, 849 ws\n",
      "meshes\\frame98000_strip_t3_1462.obj: 946 verts, 1460 faces, 946 ws\n",
      "meshes\\frame98000_strip_t3_1616.obj: 1080 verts, 1614 faces, 1080 ws\n",
      "meshes\\frame98000_strip_t3_164.obj: 112 verts, 162 faces, 112 ws\n",
      "meshes\\frame98000_strip_t3_176.obj: 120 verts, 174 faces, 120 ws\n",
      "meshes\\frame98000_strip_t3_1852.obj: 1228 verts, 1850 faces, 1228 ws\n",
      "meshes\\frame98000_strip_t3_194.obj: 132 verts, 192 faces, 132 ws\n",
      "meshes\\frame98000_strip_t3_1952.obj: 1242 verts, 1950 faces, 1242 ws\n",
      "meshes\\frame98000_strip_t3_2002.obj: 1311 verts, 2000 faces, 1311 ws\n",
      "meshes\\frame98000_strip_t3_206.obj: 140 verts, 204 faces, 140 ws\n",
      "meshes\\frame98000_strip_t3_212.obj: 144 verts, 210 faces, 144 ws\n",
      "meshes\\frame98000_strip_t3_217.obj: 144 verts, 215 faces, 144 ws\n",
      "meshes\\frame98000_strip_t3_224.obj: 152 verts, 222 faces, 152 ws\n",
      "meshes\\frame98000_strip_t3_236.obj: 160 verts, 234 faces, 160 ws\n",
      "meshes\\frame98000_strip_t3_2396.obj: 1475 verts, 2394 faces, 1475 ws\n",
      "meshes\\frame98000_strip_t3_244.obj: 154 verts, 242 faces, 154 ws\n",
      "meshes\\frame98000_strip_t3_258.obj: 166 verts, 256 faces, 166 ws\n",
      "meshes\\frame98000_strip_t3_260.obj: 176 verts, 258 faces, 176 ws\n",
      "meshes\\frame98000_strip_t3_266.obj: 180 verts, 264 faces, 180 ws\n",
      "meshes\\frame98000_strip_t3_272.obj: 184 verts, 270 faces, 184 ws\n",
      "meshes\\frame98000_strip_t3_284.obj: 172 verts, 282 faces, 172 ws\n",
      "meshes\\frame98000_strip_t3_2875.obj: 1412 verts, 2873 faces, 1412 ws\n",
      "meshes\\frame98000_strip_t3_326.obj: 220 verts, 324 faces, 220 ws\n",
      "meshes\\frame98000_strip_t3_3452.obj: 2304 verts, 3450 faces, 2304 ws\n",
      "meshes\\frame98000_strip_t3_359.obj: 233 verts, 357 faces, 233 ws\n",
      "meshes\\frame98000_strip_t3_360.obj: 233 verts, 358 faces, 233 ws\n",
      "meshes\\frame98000_strip_t3_362.obj: 244 verts, 360 faces, 244 ws\n",
      "meshes\\frame98000_strip_t3_364.obj: 240 verts, 362 faces, 240 ws\n",
      "meshes\\frame98000_strip_t3_3716.obj: 2480 verts, 3714 faces, 2480 ws\n",
      "meshes\\frame98000_strip_t3_374.obj: 252 verts, 372 faces, 252 ws\n",
      "meshes\\frame98000_strip_t3_3766.obj: 2377 verts, 3764 faces, 2377 ws\n",
      "meshes\\frame98000_strip_t3_382.obj: 263 verts, 380 faces, 263 ws\n",
      "meshes\\frame98000_strip_t3_3860.obj: 2403 verts, 3858 faces, 2403 ws\n",
      "meshes\\frame98000_strip_t3_394.obj: 288 verts, 392 faces, 288 ws\n",
      "meshes\\frame98000_strip_t3_4016.obj: 2677 verts, 4014 faces, 2677 ws\n",
      "meshes\\frame98000_strip_t3_416.obj: 280 verts, 414 faces, 280 ws\n",
      "meshes\\frame98000_strip_t3_422.obj: 275 verts, 420 faces, 275 ws\n",
      "meshes\\frame98000_strip_t3_4408.obj: 2688 verts, 4406 faces, 2688 ws\n",
      "meshes\\frame98000_strip_t3_452.obj: 302 verts, 450 faces, 302 ws\n",
      "meshes\\frame98000_strip_t3_4729.obj: 2852 verts, 4727 faces, 2852 ws\n",
      "meshes\\frame98000_strip_t3_474.obj: 317 verts, 472 faces, 317 ws\n",
      "meshes\\frame98000_strip_t3_476.obj: 288 verts, 474 faces, 288 ws\n",
      "meshes\\frame98000_strip_t3_4914.obj: 3233 verts, 4912 faces, 3233 ws\n",
      "meshes\\frame98000_strip_t3_497.obj: 246 verts, 495 faces, 246 ws\n",
      "meshes\\frame98000_strip_t3_5160.obj: 3028 verts, 5158 faces, 3028 ws\n",
      "meshes\\frame98000_strip_t3_536.obj: 360 verts, 534 faces, 360 ws\n",
      "meshes\\frame98000_strip_t3_572.obj: 384 verts, 570 faces, 384 ws\n",
      "meshes\\frame98000_strip_t3_580.obj: 368 verts, 578 faces, 368 ws\n",
      "meshes\\frame98000_strip_t3_586.obj: 397 verts, 584 faces, 397 ws\n",
      "meshes\\frame98000_strip_t3_607.obj: 320 verts, 605 faces, 320 ws\n",
      "meshes\\frame98000_strip_t3_616.obj: 413 verts, 614 faces, 413 ws\n",
      "meshes\\frame98000_strip_t3_686.obj: 440 verts, 684 faces, 440 ws\n",
      "meshes\\frame98000_strip_t3_692.obj: 446 verts, 690 faces, 446 ws\n",
      "meshes\\frame98000_strip_t3_700.obj: 376 verts, 698 faces, 376 ws\n",
      "meshes\\frame98000_strip_t3_710.obj: 476 verts, 708 faces, 476 ws\n",
      "meshes\\frame98000_strip_t3_754.obj: 546 verts, 752 faces, 546 ws\n",
      "meshes\\frame98000_strip_t3_7618.obj: 5064 verts, 7616 faces, 5064 ws\n",
      "meshes\\frame98000_strip_t3_782.obj: 524 verts, 780 faces, 524 ws\n",
      "meshes\\frame98000_strip_t3_793.obj: 567 verts, 791 faces, 567 ws\n",
      "meshes\\frame98000_strip_t3_977.obj: 612 verts, 975 faces, 612 ws\n",
      "meshes\\frame98000_strip_t5_1313.obj: 830 verts, 1311 faces, 830 ws\n",
      "meshes\\frame98000_strip_t5_14078.obj: 9311 verts, 14076 faces, 9311 ws\n",
      "meshes\\frame98000_strip_t5_1438.obj: 954 verts, 1436 faces, 954 ws\n",
      "meshes\\frame98000_strip_t5_1454.obj: 958 verts, 1452 faces, 958 ws\n",
      "meshes\\frame98000_strip_t5_15006.obj: 9998 verts, 15004 faces, 9998 ws\n",
      "meshes\\frame98000_strip_t5_158.obj: 108 verts, 156 faces, 108 ws\n",
      "meshes\\frame98000_strip_t5_176.obj: 120 verts, 174 faces, 120 ws\n",
      "meshes\\frame98000_strip_t5_177.obj: 122 verts, 175 faces, 122 ws\n",
      "meshes\\frame98000_strip_t5_200.obj: 132 verts, 198 faces, 132 ws\n",
      "meshes\\frame98000_strip_t5_216.obj: 138 verts, 214 faces, 138 ws\n",
      "meshes\\frame98000_strip_t5_22079.obj: 8490 verts, 22077 faces, 8490 ws\n",
      "meshes\\frame98000_strip_t5_244.obj: 144 verts, 242 faces, 144 ws\n",
      "meshes\\frame98000_strip_t5_274.obj: 171 verts, 272 faces, 171 ws\n",
      "meshes\\frame98000_strip_t5_284.obj: 192 verts, 282 faces, 192 ws\n",
      "meshes\\frame98000_strip_t5_306.obj: 202 verts, 304 faces, 202 ws\n",
      "meshes\\frame98000_strip_t5_3108.obj: 1989 verts, 3106 faces, 1989 ws\n",
      "meshes\\frame98000_strip_t5_332.obj: 224 verts, 330 faces, 224 ws\n",
      "meshes\\frame98000_strip_t5_344.obj: 232 verts, 342 faces, 232 ws\n",
      "meshes\\frame98000_strip_t5_410.obj: 254 verts, 408 faces, 254 ws\n",
      "meshes\\frame98000_strip_t5_438.obj: 290 verts, 436 faces, 290 ws\n",
      "meshes\\frame98000_strip_t5_4801.obj: 3132 verts, 4799 faces, 3132 ws\n",
      "meshes\\frame98000_strip_t5_488.obj: 328 verts, 486 faces, 328 ws\n",
      "meshes\\frame98000_strip_t5_500.obj: 336 verts, 498 faces, 336 ws\n",
      "meshes\\frame98000_strip_t5_512.obj: 283 verts, 510 faces, 283 ws\n",
      "meshes\\frame98000_strip_t5_524.obj: 352 verts, 522 faces, 352 ws\n",
      "meshes\\frame98000_strip_t5_535.obj: 345 verts, 533 faces, 345 ws\n",
      "meshes\\frame98000_strip_t5_716.obj: 428 verts, 714 faces, 428 ws\n",
      "meshes\\frame98000_strip_t5_733.obj: 390 verts, 731 faces, 390 ws\n",
      "meshes\\frame98000_strip_t5_788.obj: 528 verts, 786 faces, 528 ws\n",
      "meshes\\frame98000_strip_t5_8839.obj: 3613 verts, 8837 faces, 3613 ws\n",
      "meshes\\frame98000_strip_t5_884.obj: 592 verts, 882 faces, 592 ws\n",
      "meshes\\frame98000_strip_t5_986.obj: 649 verts, 984 faces, 649 ws\n",
      "meshes\\frame98000_strip_t6_253.obj: 102 verts, 251 faces, 102 ws\n",
      "meshes\\frame98000_strip_t6_326.obj: 116 verts, 324 faces, 116 ws\n",
      "meshes\\frame98000_strip_t6_666.obj: 268 verts, 664 faces, 268 ws\n",
      "meshes\\frame98000_strip_t6_766.obj: 253 verts, 764 faces, 253 ws\n",
      "Total:  100648 verts,  168752 faces\n"
     ]
    }
   ],
   "source": [
    "verts = []\n",
    "inds = []\n",
    "verts_normed = []\n",
    "verts_og = []\n",
    "\n",
    "voffset = 0\n",
    "FROM =0\n",
    "UPTO = 150\n",
    "for fname in stripfiles[FROM:UPTO]:\n",
    "    with open(fname) as fl:\n",
    "        raw = fl.read()\n",
    "    lines = raw.split('\\n')\n",
    "    lines = [ll for ll in lines if ll]\n",
    "    vs = [ll for ll in lines if ll[0] == 'v']\n",
    "    \n",
    "    ws = [ll for ll in lines if ll[:3] == '# w']\n",
    "    os = [ll.replace('# o', 'v') for ll in lines if ll[:3] == '# o']\n",
    "    fs = [ll for ll in lines if ll[0] == 'f']\n",
    "    print('%s: %d verts, %d faces, %d ws' % (fname, len(vs), len(fs), len(ws)))\n",
    "    \n",
    "    verts_normed += [norm(*pair) for pair in zip(ws, vs)]\n",
    "    verts_og += os\n",
    "    verts += ['# ' + fname]\n",
    "    verts += vs\n",
    "    inds += [indadd(fdef, voffset) for fdef in fs]\n",
    "    voffset += len(vs)\n",
    "\n",
    "print('Total:  %d verts,  %d faces' % (len(verts), len(inds)))"
   ]
  },
  {
   "cell_type": "code",
   "execution_count": 5,
   "metadata": {},
   "outputs": [],
   "source": [
    "with open('dump.obj', 'w') as fl:\n",
    "    fl.write('\\n'.join(verts))\n",
    "    fl.write('\\n')\n",
    "    fl.write('\\n'.join(inds))"
   ]
  },
  {
   "cell_type": "code",
   "execution_count": null,
   "metadata": {},
   "outputs": [],
   "source": [
    "# with open('dump_norm.obj', 'w') as fl:\n",
    "    fl.write('\\n'.join(verts_normed))\n",
    "    fl.write('\\n')\n",
    "    fl.write('\\n'.join(inds))"
   ]
  },
  {
   "cell_type": "code",
   "execution_count": 6,
   "metadata": {},
   "outputs": [],
   "source": [
    "with open('dump_og.obj', 'w') as fl:\n",
    "    fl.write('\\n'.join(verts_og))\n",
    "    fl.write('\\n')\n",
    "    fl.write('\\n'.join(inds))"
   ]
  },
  {
   "cell_type": "code",
   "execution_count": null,
   "metadata": {},
   "outputs": [],
   "source": []
  }
 ],
 "metadata": {
  "kernelspec": {
   "display_name": "Python 3",
   "language": "python",
   "name": "python3"
  },
  "language_info": {
   "codemirror_mode": {
    "name": "ipython",
    "version": 3
   },
   "file_extension": ".py",
   "mimetype": "text/x-python",
   "name": "python",
   "nbconvert_exporter": "python",
   "pygments_lexer": "ipython3",
   "version": "3.7.1"
  }
 },
 "nbformat": 4,
 "nbformat_minor": 2
}
