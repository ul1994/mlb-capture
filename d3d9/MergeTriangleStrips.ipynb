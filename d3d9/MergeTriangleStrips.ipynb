{
 "cells": [
  {
   "cell_type": "code",
   "execution_count": 1,
   "metadata": {},
   "outputs": [],
   "source": [
    "from glob import glob"
   ]
  },
  {
   "cell_type": "code",
   "execution_count": 12,
   "metadata": {
    "scrolled": false
   },
   "outputs": [
    {
     "name": "stdout",
     "output_type": "stream",
     "text": [
      "     2\n",
      "meshes\\frame96000_strip_s20_666.obj\n",
      "meshes\\frame96000_strip_s20_766.obj\n"
     ]
    }
   ],
   "source": [
    "stripfiles = sorted(glob('meshes/*strip*.obj'))\n",
    "stripfiles = [fl for fl in stripfiles if 't1' not in fl]\n",
    "print('    ', len(stripfiles))\n",
    "print(stripfiles[0])\n",
    "print(stripfiles[-1])"
   ]
  },
  {
   "cell_type": "code",
   "execution_count": 13,
   "metadata": {
    "scrolled": true
   },
   "outputs": [
    {
     "name": "stdout",
     "output_type": "stream",
     "text": [
      "f 11 12 13\n",
      "v 1.0 1.0 1.0\n"
     ]
    }
   ],
   "source": [
    "def indadd(istr, amount):\n",
    "    parts = [str(int(val) + amount) for val in istr.split()[1:]]\n",
    "    return 'f ' + ' '.join(parts)\n",
    "\n",
    "print(indadd('f 1 2 3 ', 10))\n",
    "\n",
    "def norm(ww, vert):\n",
    "    coords = [float(val) / float(ww.split('# w ')[1]) for val in vert.split()[1:]]\n",
    "    return 'v ' + ' '.join([str(val) for val in coords])\n",
    "\n",
    "print(norm(*('# w 2', 'v 2 2 2')))"
   ]
  },
  {
   "cell_type": "code",
   "execution_count": 14,
   "metadata": {},
   "outputs": [
    {
     "name": "stdout",
     "output_type": "stream",
     "text": [
      "meshes\\frame96000_strip_s20_666.obj: 268 verts, 664 faces, 268 ws\n",
      "meshes\\frame96000_strip_s20_766.obj: 253 verts, 764 faces, 253 ws\n",
      "Total:  523 verts,  1428 faces\n"
     ]
    }
   ],
   "source": [
    "verts = []\n",
    "inds = []\n",
    "verts_normed = []\n",
    "verts_og = []\n",
    "\n",
    "voffset = 0\n",
    "FROM =0\n",
    "UPTO = 150\n",
    "for fname in stripfiles[FROM:UPTO]:\n",
    "    with open(fname) as fl:\n",
    "        raw = fl.read()\n",
    "    lines = raw.split('\\n')\n",
    "    lines = [ll for ll in lines if ll]\n",
    "    vs = [ll for ll in lines if ll[0] == 'v']\n",
    "    \n",
    "    ws = [ll for ll in lines if ll[:3] == '# w']\n",
    "    os = [ll.replace('# o', 'v') for ll in lines if ll[:3] == '# o']\n",
    "    fs = [ll for ll in lines if ll[0] == 'f']\n",
    "    print('%s: %d verts, %d faces, %d ws' % (fname, len(vs), len(fs), len(ws)))\n",
    "    \n",
    "    verts_normed += [norm(*pair) for pair in zip(ws, vs)]\n",
    "    verts_og += os\n",
    "    verts += ['# ' + fname]\n",
    "    verts += vs\n",
    "    inds += [indadd(fdef, voffset) for fdef in fs]\n",
    "    voffset += len(vs)\n",
    "\n",
    "print('Total:  %d verts,  %d faces' % (len(verts), len(inds)))"
   ]
  },
  {
   "cell_type": "code",
   "execution_count": 15,
   "metadata": {},
   "outputs": [],
   "source": [
    "with open('dump.obj', 'w') as fl:\n",
    "    fl.write('\\n'.join(verts))\n",
    "    fl.write('\\n')\n",
    "    fl.write('\\n'.join(inds))"
   ]
  },
  {
   "cell_type": "code",
   "execution_count": 16,
   "metadata": {},
   "outputs": [],
   "source": [
    "with open('dump_og.obj', 'w') as fl:\n",
    "    fl.write('\\n'.join(verts_og))\n",
    "    fl.write('\\n')\n",
    "    fl.write('\\n'.join(inds))"
   ]
  },
  {
   "cell_type": "code",
   "execution_count": null,
   "metadata": {},
   "outputs": [],
   "source": []
  }
 ],
 "metadata": {
  "kernelspec": {
   "display_name": "Python 3",
   "language": "python",
   "name": "python3"
  },
  "language_info": {
   "codemirror_mode": {
    "name": "ipython",
    "version": 3
   },
   "file_extension": ".py",
   "mimetype": "text/x-python",
   "name": "python",
   "nbconvert_exporter": "python",
   "pygments_lexer": "ipython3",
   "version": "3.7.1"
  }
 },
 "nbformat": 4,
 "nbformat_minor": 2
}
