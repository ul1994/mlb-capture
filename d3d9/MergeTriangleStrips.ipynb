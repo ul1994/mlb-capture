{
 "cells": [
  {
   "cell_type": "code",
   "execution_count": 39,
   "metadata": {},
   "outputs": [],
   "source": [
    "from glob import glob\n",
    "import numpy as np"
   ]
  },
  {
   "cell_type": "code",
   "execution_count": 40,
   "metadata": {
    "scrolled": false
   },
   "outputs": [
    {
     "name": "stdout",
     "output_type": "stream",
     "text": [
      "     288\n",
      "meshes\\frame30000_strip_o1001_s36_572.obj\n",
      "meshes\\frame30000_strip_o994_s36_851.obj\n"
     ]
    }
   ],
   "source": [
    "stripfiles = sorted(glob('meshes/frame*.obj'))\n",
    "stripfiles = [fl for fl in stripfiles if 't1' not in fl]\n",
    "print('    ', len(stripfiles))\n",
    "print(stripfiles[0])\n",
    "print(stripfiles[-1])"
   ]
  },
  {
   "cell_type": "code",
   "execution_count": 41,
   "metadata": {},
   "outputs": [
    {
     "data": {
      "text/plain": [
       "([1.0, 2.0, 3.0, 4.0], 'asdf')"
      ]
     },
     "execution_count": 41,
     "metadata": {},
     "output_type": "execute_result"
    }
   ],
   "source": [
    "def parsev(line, comment=True, dtype=float):\n",
    "    if comment: line = line.replace('# ', '')\n",
    "    parts = line.split()\n",
    "    token = parts[0]\n",
    "    vlist = [dtype(val) for val in parts[1:]]\n",
    "    return vlist, token\n",
    "\n",
    "parsev('# asdf 1 2 3 4')"
   ]
  },
  {
   "cell_type": "code",
   "execution_count": 43,
   "metadata": {},
   "outputs": [
    {
     "name": "stdout",
     "output_type": "stream",
     "text": [
      "[4208.003418, 433.771393, 11131.350586, 1]\n",
      "[5170.827637, 390.140747, 11579.664063, 1]\n",
      "[1, 2, 3]\n"
     ]
    }
   ],
   "source": [
    "RSTRIDE = 3\n",
    "BSTART = 40\n",
    "def load_markup(fname):\n",
    "    with open(fname) as fl:\n",
    "        raw = fl.read()\n",
    "    lines = [ln for ln in raw.split('\\n') if ln]\n",
    "    registers = lines[1:1+256]\n",
    "    registers = [parsev(ln)[0] for ln in registers]\n",
    "    \n",
    "    vstart, vend, ventries = -1, -1, 1\n",
    "    vstart = lines.index('# Data:') + 1\n",
    "    for lii, line in enumerate(lines[vstart:]):\n",
    "        if line[0] == 'v':\n",
    "            ventries = lii + 1\n",
    "            break\n",
    "    for lii, line in enumerate(lines[vstart:]):\n",
    "        if line[0] == 'f':\n",
    "            vend = lii\n",
    "            break\n",
    "    vend += vstart\n",
    "#     print(vstart, vend, ventries)\n",
    "        \n",
    "    vgrouped = [lines[lii:lii+ventries] for lii in range(vstart, vend, ventries)]\n",
    "    faces = [parsev(ln, comment=False, dtype=int)[0] for ln in lines if ln[0] == 'f']\n",
    "    \n",
    "    verts = []\n",
    "    for group in vgrouped:\n",
    "        ent = {}\n",
    "        converted = [parsev(line) for line in group[:ventries-1]]\n",
    "        for vector, token in converted: ent[token] = vector\n",
    "        \n",
    "        vertex, _ = parsev(group[-1], comment=False)\n",
    "        ent['vertex'] = vertex + [1,]\n",
    "        verts.append(ent)\n",
    "\n",
    "    for ent in verts:\n",
    "        vertex = ent['vertex']\n",
    "        if 'blend' in ent:\n",
    "            bind = int(ent['blend'][0])\n",
    "            assert bind >= 0\n",
    "            boffset = BSTART + RSTRIDE * bind\n",
    "            bvect = np.zeros(4)\n",
    "            for dim in range(3):\n",
    "                bweights = np.array(registers[boffset+dim])\n",
    "                bvect[dim] = np.dot(vertex, bweights)\n",
    "            bvect[3] = 1\n",
    "            ent['world'] = bvect\n",
    "        else:\n",
    "            ent['world'] = ent['vertex']\n",
    "    \n",
    "    return verts, faces, registers\n",
    "\n",
    "verts, faces, regs = load_markup(stripfiles[0])\n",
    "# verts, faces, regs = load_markup('meshes/frame30000_strip_o149_s60_2608.obj')\n",
    "print(verts[0]['world'])\n",
    "print(verts[-1]['world'])\n",
    "print(faces[0])"
   ]
  },
  {
   "cell_type": "code",
   "execution_count": 44,
   "metadata": {
    "scrolled": true
   },
   "outputs": [],
   "source": [
    "def writeobj(fname, verts, faces):\n",
    "    with open(fname, 'w') as fl:\n",
    "        for ent in verts:\n",
    "            fl.write('v %s\\n' % ' '.join(['%f' % val for val in ent['world'][:3]]))\n",
    "        for fdef in faces:\n",
    "            fl.write('f %s\\n' % ' '.join(['%d' % val for val in fdef]))\n",
    "\n",
    "stripfiles = sorted(glob('meshes/frame*.obj'))\n",
    "stripfiles = [fl for fl in stripfiles if 't1' not in fl]\n",
    "\n",
    "for fname in stripfiles:\n",
    "    verts, faces, regs = load_markup(fname)\n",
    "    fname = fname.replace('frame', 'blendf').replace('meshes', 'outputs')\n",
    "#     print(fname)\n",
    "    writeobj(fname, verts, faces)"
   ]
  },
  {
   "cell_type": "code",
   "execution_count": 67,
   "metadata": {
    "scrolled": false
   },
   "outputs": [
    {
     "name": "stdout",
     "output_type": "stream",
     "text": [
      "199\n"
     ]
    }
   ],
   "source": [
    "markupfiles = sorted(glob('meshes/frame*.obj'))\n",
    "print(len(markupfiles))\n",
    "\n",
    "class merged:\n",
    "    verts = []\n",
    "    faces = []\n",
    "    \n",
    "foffset = 0\n",
    "for fname in markupfiles:\n",
    "    verts, faces, regs = load_markup(fname)\n",
    "    merged.verts += verts\n",
    "    \n",
    "#     print(fname, faces[0])\n",
    "    offset_faces = []\n",
    "    for face in faces:\n",
    "        offset_faces += [[val + foffset for val in face]]\n",
    "    assert len(offset_faces) == len(faces)\n",
    "    merged.faces += offset_faces\n",
    "    \n",
    "    foffset += len(verts)\n",
    "\n",
    "with open('blended.obj', 'w') as fl:\n",
    "    for vert in merged.verts:\n",
    "#         print(vert)\n",
    "        fl.write('v %s\\n' % ' '.join(['%f' % val for val in vert['world'][:3]]))\n",
    "    for face in merged.faces:\n",
    "        fl.write('f %s\\n' % ' '.join(['%d' % val for val in face]))\n",
    "        \n",
    "with open('merged.obj', 'w') as fl:\n",
    "    for vert in merged.verts:\n",
    "#         print(vert)\n",
    "        fl.write('v %s\\n' % ' '.join(['%f' % val for val in vert['vertex'][:3]]))\n",
    "    for face in merged.faces:\n",
    "        fl.write('f %s\\n' % ' '.join(['%d' % val for val in face]))\n",
    "    "
   ]
  },
  {
   "cell_type": "code",
   "execution_count": 65,
   "metadata": {},
   "outputs": [
    {
     "name": "stdout",
     "output_type": "stream",
     "text": [
      "['meshes\\\\frame30500_strip_o367_s36_1186.obj', 'meshes\\\\frame30500_strip_o370_s36_1566.obj', 'meshes\\\\frame30500_strip_o371_s36_1008.obj', 'meshes\\\\frame30500_strip_o372_s36_2733.obj', 'meshes\\\\frame30500_strip_o373_s36_2387.obj', 'meshes\\\\frame30500_strip_o380_s36_19697.obj', 'meshes\\\\frame30500_strip_o381_s36_720.obj', 'meshes\\\\frame30500_strip_o382_s36_9106.obj']\n"
     ]
    }
   ],
   "source": [
    "print(markupfiles[200:208])"
   ]
  }
 ],
 "metadata": {
  "kernelspec": {
   "display_name": "Python 3",
   "language": "python",
   "name": "python3"
  },
  "language_info": {
   "codemirror_mode": {
    "name": "ipython",
    "version": 3
   },
   "file_extension": ".py",
   "mimetype": "text/x-python",
   "name": "python",
   "nbconvert_exporter": "python",
   "pygments_lexer": "ipython3",
   "version": "3.7.1"
  }
 },
 "nbformat": 4,
 "nbformat_minor": 2
}
